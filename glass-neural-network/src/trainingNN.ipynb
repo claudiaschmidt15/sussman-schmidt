{
 "cells": [
  {
   "cell_type": "code",
   "execution_count": 3,
   "metadata": {},
   "outputs": [
    {
     "ename": "TypeError",
     "evalue": "cannot unpack non-iterable NoneType object",
     "output_type": "error",
     "traceback": [
      "\u001b[0;31m---------------------------------------------------------------------------\u001b[0m",
      "\u001b[0;31mTypeError\u001b[0m                                 Traceback (most recent call last)",
      "Cell \u001b[0;32mIn[3], line 2\u001b[0m\n\u001b[1;32m      1\u001b[0m \u001b[39mimport\u001b[39;00m \u001b[39mtemp_loader2\u001b[39;00m\n\u001b[0;32m----> 2\u001b[0m training_data, validation_data, test_data \u001b[39m=\u001b[39m temp_loader2\u001b[39m.\u001b[39;49mload_data_wrapper()\n",
      "File \u001b[0;32m~/Documents/git/sussman-schmidt/glass-neural-network/src/temp_loader2.py:17\u001b[0m, in \u001b[0;36mload_data_wrapper\u001b[0;34m()\u001b[0m\n\u001b[1;32m     16\u001b[0m \u001b[39mdef\u001b[39;00m \u001b[39mload_data_wrapper\u001b[39m():\n\u001b[0;32m---> 17\u001b[0m     tr_d, va_d \u001b[39m=\u001b[39m load_data()\n\u001b[1;32m     18\u001b[0m     training_inputs \u001b[39m=\u001b[39m [np\u001b[39m.\u001b[39mreshape(x, (\u001b[39m100\u001b[39m, \u001b[39m1\u001b[39m)) \u001b[39mfor\u001b[39;00m x \u001b[39min\u001b[39;00m tr_d[\u001b[39m0\u001b[39m]]\n\u001b[1;32m     19\u001b[0m     training_results \u001b[39m=\u001b[39m [training_inputs, tr_d[\u001b[39m1\u001b[39m]]\n",
      "\u001b[0;31mTypeError\u001b[0m: cannot unpack non-iterable NoneType object"
     ]
    }
   ],
   "source": [
    "import temp_loader2\n",
    "training_data, validation_data, test_data = temp_loader2.load_data_wrapper()"
   ]
  },
  {
   "cell_type": "code",
   "execution_count": null,
   "metadata": {},
   "outputs": [],
   "source": []
  },
  {
   "cell_type": "code",
   "execution_count": null,
   "metadata": {},
   "outputs": [],
   "source": []
  },
  {
   "cell_type": "code",
   "execution_count": null,
   "metadata": {},
   "outputs": [],
   "source": []
  }
 ],
 "metadata": {
  "kernelspec": {
   "display_name": "Python 3",
   "language": "python",
   "name": "python3"
  },
  "language_info": {
   "codemirror_mode": {
    "name": "ipython",
    "version": 3
   },
   "file_extension": ".py",
   "mimetype": "text/x-python",
   "name": "python",
   "nbconvert_exporter": "python",
   "pygments_lexer": "ipython3",
   "version": "3.8.2"
  },
  "orig_nbformat": 4,
  "vscode": {
   "interpreter": {
    "hash": "aee8b7b246df8f9039afb4144a1f6fd8d2ca17a180786b69acc140d282b71a49"
   }
  }
 },
 "nbformat": 4,
 "nbformat_minor": 2
}
